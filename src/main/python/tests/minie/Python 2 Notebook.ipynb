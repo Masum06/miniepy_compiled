{
 "cells": [
  {
   "cell_type": "code",
   "execution_count": 1,
   "metadata": {},
   "outputs": [
    {
     "name": "stdout",
     "output_type": "stream",
     "text": [
      "('Input sentence:', 'The Joker believes that the hero Batman was not actually born in foggy Gotham City.')\n",
      "=============================\n",
      "Extractions:\n",
      "('\\tTriple:', '\"Batman\"\\t\"is\"\\t\"hero\"\\t')\n",
      "('\\tFactuality:', '(+,CT)')\n",
      "\tAttribution: NONE\n",
      "\t----------\n",
      "('\\tTriple:', '\"Batman\"\\t\"was born in\"\\t\"foggy Gotham City\"\\t')\n",
      "('\\tFactuality:', '(-,CT)')\n",
      "('\\tAttribution:', '(The Joker, (+,PS))')\n",
      "\t----------\n",
      "DONE!\n"
     ]
    }
   ],
   "source": [
    "#!/usr/bin/env python3\n",
    "# -*- coding: utf-8 -*-\n",
    "\"\"\"\n",
    "Created on Sat Sep 15 15:08:18 2018\n",
    "\n",
    "@author: Emmanouil Theofanis Chourdakis <e.t.chourdakis@qmul.ac.uk>\n",
    "\n",
    "This re-implements src/main/java/tests/minie/Demo.java with python\n",
    "in order to showcase how minie can be used with python.\n",
    "\n",
    "\"\"\"\n",
    "\n",
    "# Change CLASSPATH to point to the minie jar archive, \n",
    "import os\n",
    "os.environ['CLASSPATH'] = \"../../../../../target/minie-0.0.1-SNAPSHOT.jar\"\n",
    "\n",
    "# Uncomment to point to your java home (an example is given for arch linux)\n",
    "# if you don't have it as an environment variable already.\n",
    "# os.environ['JAVA_HOME'] = '/usr/lib/jvm/default'\n",
    "\n",
    "# Import java classes in python with pyjnius' autoclass (might take some time)\n",
    "from jnius import autoclass\n",
    "\n",
    "CoreNLPUtils = autoclass('de.uni_mannheim.utils.coreNLP.CoreNLPUtils')\n",
    "AnnotatedProposition = autoclass('de.uni_mannheim.minie.annotation.AnnotatedProposition')\n",
    "MinIE = autoclass('de.uni_mannheim.minie.MinIE')\n",
    "StanfordCoreNLP = autoclass('edu.stanford.nlp.pipeline.StanfordCoreNLP')\n",
    "String = autoclass('java.lang.String')\n",
    "\n",
    "# Dependency parsing pipeline initialization\n",
    "parser = CoreNLPUtils.StanfordDepNNParser()\n",
    "\n",
    "# Input sentence\n",
    "sentence = \"The Joker believes that the hero Batman was not actually born in foggy Gotham City.\"\n",
    "\n",
    "# Generate the extractions (With SAFE mode (mode = 2))\n",
    "# NOTE: sentence must be wrapped into String, else it won't work.\n",
    "minie = MinIE(String(sentence), parser, 2)\n",
    "\n",
    "# Print out the extrations\n",
    "print(\"Input sentence:\", sentence)\n",
    "print(\"=============================\")\n",
    "print(\"Extractions:\")\n",
    "\n",
    "# getPropositions() below returns an ObjectArrayList. Its elements can be accessed\n",
    "# as a python list by the .elements() method\n",
    "for ap in minie.getPropositions().elements():\n",
    "    \n",
    "    # Some elements might by null so we don't process them.\n",
    "    if ap is not None: \n",
    "        print(\"\\tTriple:\", ap.getTripleAsString())\n",
    "        print(\"\\tFactuality:\", ap.getFactualityAsString())\n",
    "        if ap.getAttribution().getAttributionPhrase() is not None:\n",
    "            print(\"\\tAttribution:\", ap.getAttribution().toStringCompact());\n",
    "        else:\n",
    "            print(\"\\tAttribution: NONE\")\n",
    "        print(\"\\t----------\");\n",
    "        \n",
    "print(\"DONE!\")"
   ]
  },
  {
   "cell_type": "code",
   "execution_count": null,
   "metadata": {},
   "outputs": [],
   "source": []
  }
 ],
 "metadata": {
  "kernelspec": {
   "display_name": "Python 2",
   "language": "python",
   "name": "python2"
  },
  "language_info": {
   "codemirror_mode": {
    "name": "ipython",
    "version": 2
   },
   "file_extension": ".py",
   "mimetype": "text/x-python",
   "name": "python",
   "nbconvert_exporter": "python",
   "pygments_lexer": "ipython2",
   "version": "2.7.16"
  }
 },
 "nbformat": 4,
 "nbformat_minor": 2
}
