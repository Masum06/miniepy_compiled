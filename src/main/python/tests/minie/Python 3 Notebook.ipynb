{
 "cells": [
  {
   "cell_type": "code",
   "execution_count": 2,
   "metadata": {},
   "outputs": [
    {
     "ename": "ModuleNotFoundError",
     "evalue": "No module named 'jnius'",
     "output_type": "error",
     "traceback": [
      "\u001b[1;31m---------------------------------------------------------------------------\u001b[0m",
      "\u001b[1;31mModuleNotFoundError\u001b[0m                       Traceback (most recent call last)",
      "\u001b[1;32m<ipython-input-2-7a44a015f0e4>\u001b[0m in \u001b[0;36m<module>\u001b[1;34m\u001b[0m\n\u001b[0;32m     20\u001b[0m \u001b[1;33m\u001b[0m\u001b[0m\n\u001b[0;32m     21\u001b[0m \u001b[1;31m# Import java classes in python with pyjnius' autoclass (might take some time)\u001b[0m\u001b[1;33m\u001b[0m\u001b[1;33m\u001b[0m\u001b[1;33m\u001b[0m\u001b[0m\n\u001b[1;32m---> 22\u001b[1;33m \u001b[1;32mfrom\u001b[0m \u001b[0mjnius\u001b[0m \u001b[1;32mimport\u001b[0m \u001b[0mautoclass\u001b[0m\u001b[1;33m\u001b[0m\u001b[1;33m\u001b[0m\u001b[0m\n\u001b[0m\u001b[0;32m     23\u001b[0m \u001b[1;33m\u001b[0m\u001b[0m\n\u001b[0;32m     24\u001b[0m \u001b[0mCoreNLPUtils\u001b[0m \u001b[1;33m=\u001b[0m \u001b[0mautoclass\u001b[0m\u001b[1;33m(\u001b[0m\u001b[1;34m'de.uni_mannheim.utils.coreNLP.CoreNLPUtils'\u001b[0m\u001b[1;33m)\u001b[0m\u001b[1;33m\u001b[0m\u001b[1;33m\u001b[0m\u001b[0m\n",
      "\u001b[1;31mModuleNotFoundError\u001b[0m: No module named 'jnius'"
     ]
    }
   ],
   "source": [
    "#!/usr/bin/env python3\n",
    "# -*- coding: utf-8 -*-\n",
    "\"\"\"\n",
    "Created on Sat Sep 15 15:08:18 2018\n",
    "\n",
    "@author: Emmanouil Theofanis Chourdakis <e.t.chourdakis@qmul.ac.uk>\n",
    "\n",
    "This re-implements src/main/java/tests/minie/Demo.java with python\n",
    "in order to showcase how minie can be used with python.\n",
    "\n",
    "\"\"\"\n",
    "\n",
    "# Change CLASSPATH to point to the minie jar archive, \n",
    "import os\n",
    "os.environ['CLASSPATH'] = \"../../../../../target/minie-0.0.1-SNAPSHOT.jar\"\n",
    "\n",
    "# Uncomment to point to your java home (an example is given for arch linux)\n",
    "# if you don't have it as an environment variable already.\n",
    "# os.environ['JAVA_HOME'] = '/usr/lib/jvm/default'\n",
    "\n",
    "# Import java classes in python with pyjnius' autoclass (might take some time)\n",
    "from jnius import autoclass\n",
    "\n",
    "CoreNLPUtils = autoclass('de.uni_mannheim.utils.coreNLP.CoreNLPUtils')\n",
    "AnnotatedProposition = autoclass('de.uni_mannheim.minie.annotation.AnnotatedProposition')\n",
    "MinIE = autoclass('de.uni_mannheim.minie.MinIE')\n",
    "StanfordCoreNLP = autoclass('edu.stanford.nlp.pipeline.StanfordCoreNLP')\n",
    "String = autoclass('java.lang.String')\n",
    "\n",
    "# Dependency parsing pipeline initialization\n",
    "parser = CoreNLPUtils.StanfordDepNNParser()\n",
    "\n",
    "# Input sentence\n",
    "sentence = \"The Joker believes that the hero Batman was not actually born in foggy Gotham City.\"\n",
    "\n",
    "# Generate the extractions (With SAFE mode (mode = 2))\n",
    "# NOTE: sentence must be wrapped into String, else it won't work.\n",
    "minie = MinIE(String(sentence), parser, 2)\n",
    "\n",
    "# Print out the extrations\n",
    "print(\"Input sentence:\", sentence)\n",
    "print(\"=============================\")\n",
    "print(\"Extractions:\")\n",
    "\n",
    "# getPropositions() below returns an ObjectArrayList. Its elements can be accessed\n",
    "# as a python list by the .elements() method\n",
    "for ap in minie.getPropositions().elements():\n",
    "    \n",
    "    # Some elements might by null so we don't process them.\n",
    "    if ap is not None: \n",
    "        print(\"\\tTriple:\", ap.getTripleAsString())\n",
    "        print(\"\\tFactuality:\", ap.getFactualityAsString())\n",
    "        if ap.getAttribution().getAttributionPhrase() is not None:\n",
    "            print(\"\\tAttribution:\", ap.getAttribution().toStringCompact());\n",
    "        else:\n",
    "            print(\"\\tAttribution: NONE\")\n",
    "        print(\"\\t----------\");\n",
    "        \n",
    "print(\"DONE!\")"
   ]
  },
  {
   "cell_type": "code",
   "execution_count": 1,
   "metadata": {},
   "outputs": [
    {
     "name": "stdout",
     "output_type": "stream",
     "text": [
      "Collecting ipykernel\n",
      "  Downloading https://files.pythonhosted.org/packages/00/47/764e4fa1b1b89598426b8d79b1c4fbe8042432621b0f8e1991aeb3c24806/ipykernel-4.10.0-py2-none-any.whl (110kB)\n",
      "Collecting traitlets>=4.1.0 (from ipykernel)\n",
      "  Using cached https://files.pythonhosted.org/packages/93/d6/abcb22de61d78e2fc3959c964628a5771e47e7cc60d53e9342e21ed6cc9a/traitlets-4.3.2-py2.py3-none-any.whl\n",
      "Collecting ipython>=4.0.0 (from ipykernel)\n",
      "  Downloading https://files.pythonhosted.org/packages/b0/88/d996ab8be22cea1eaa18baee3678a11265e18cf09974728d683c51102148/ipython-5.8.0-py2-none-any.whl (760kB)\n",
      "Collecting jupyter-client (from ipykernel)\n",
      "  Using cached https://files.pythonhosted.org/packages/3b/c3/3043fe9ffd140d03c9d091a056794ccdc427c56ec19b8eea74f9ea0a498f/jupyter_client-5.2.4-py2.py3-none-any.whl\n",
      "Collecting tornado>=4.0 (from ipykernel)\n",
      "  Downloading https://files.pythonhosted.org/packages/e6/78/6e7b5af12c12bdf38ca9bfe863fcaf53dc10430a312d0324e76c1e5ca426/tornado-5.1.1.tar.gz (516kB)\n",
      "Requirement already satisfied: six in c:\\python27\\lib\\site-packages (from traitlets>=4.1.0->ipykernel) (1.12.0)\n",
      "Collecting enum34; python_version == \"2.7\" (from traitlets>=4.1.0->ipykernel)\n",
      "  Downloading https://files.pythonhosted.org/packages/c5/db/e56e6b4bbac7c4a06de1c50de6fe1ef3810018ae11732a50f15f62c7d050/enum34-1.1.6-py2-none-any.whl\n",
      "Collecting decorator (from traitlets>=4.1.0->ipykernel)\n",
      "  Using cached https://files.pythonhosted.org/packages/5f/88/0075e461560a1e750a0dcbf77f1d9de775028c37a19a346a6c565a257399/decorator-4.4.0-py2.py3-none-any.whl\n",
      "Collecting ipython-genutils (from traitlets>=4.1.0->ipykernel)\n",
      "  Using cached https://files.pythonhosted.org/packages/fa/bc/9bd3b5c2b4774d5f33b2d544f1460be9df7df2fe42f352135381c347c69a/ipython_genutils-0.2.0-py2.py3-none-any.whl\n",
      "Collecting prompt-toolkit<2.0.0,>=1.0.4 (from ipython>=4.0.0->ipykernel)\n",
      "  Downloading https://files.pythonhosted.org/packages/4e/4e/e5545e8bebf89790455b31112a0f886580c7b3624a05abec416efa5c3a08/prompt_toolkit-1.0.16-py2-none-any.whl (244kB)\n",
      "Requirement already satisfied: setuptools>=18.5 in c:\\python27\\lib\\site-packages (from ipython>=4.0.0->ipykernel) (40.6.2)\n",
      "Collecting pickleshare (from ipython>=4.0.0->ipykernel)\n",
      "  Using cached https://files.pythonhosted.org/packages/9a/41/220f49aaea88bc6fa6cba8d05ecf24676326156c23b991e80b3f2fc24c77/pickleshare-0.7.5-py2.py3-none-any.whl\n",
      "Collecting win-unicode-console>=0.5; sys_platform == \"win32\" and python_version < \"3.6\" (from ipython>=4.0.0->ipykernel)\n",
      "  Downloading https://files.pythonhosted.org/packages/89/8d/7aad74930380c8972ab282304a2ff45f3d4927108bb6693cabcc9fc6a099/win_unicode_console-0.5.zip\n",
      "Collecting pygments (from ipython>=4.0.0->ipykernel)\n",
      "  Using cached https://files.pythonhosted.org/packages/5c/73/1dfa428150e3ccb0fa3e68db406e5be48698f2a979ccbcec795f28f44048/Pygments-2.4.2-py2.py3-none-any.whl\n",
      "Collecting pathlib2; python_version == \"2.7\" or python_version == \"3.3\" (from ipython>=4.0.0->ipykernel)\n",
      "  Downloading https://files.pythonhosted.org/packages/2a/46/c696dcf1c7aad917b39b875acdc5451975e3a9b4890dca8329983201c97a/pathlib2-2.3.3-py2.py3-none-any.whl\n",
      "Collecting backports.shutil-get-terminal-size; python_version == \"2.7\" (from ipython>=4.0.0->ipykernel)\n",
      "  Downloading https://files.pythonhosted.org/packages/7d/cd/1750d6c35fe86d35f8562091737907f234b78fdffab42b29c72b1dd861f4/backports.shutil_get_terminal_size-1.0.0-py2.py3-none-any.whl\n",
      "Collecting colorama; sys_platform == \"win32\" (from ipython>=4.0.0->ipykernel)\n",
      "  Using cached https://files.pythonhosted.org/packages/4f/a6/728666f39bfff1719fc94c481890b2106837da9318031f71a8424b662e12/colorama-0.4.1-py2.py3-none-any.whl\n",
      "Collecting simplegeneric>0.8 (from ipython>=4.0.0->ipykernel)\n",
      "  Downloading https://files.pythonhosted.org/packages/3d/57/4d9c9e3ae9a255cd4e1106bb57e24056d3d0709fc01b2e3e345898e49d5b/simplegeneric-0.8.1.zip\n",
      "Collecting pyzmq>=13 (from jupyter-client->ipykernel)\n",
      "  Downloading https://files.pythonhosted.org/packages/4c/64/1bd9ca5b24ebeda64a1457591ab42a1d071c86d3ab56969c82ea60b23c26/pyzmq-18.0.1-cp27-cp27m-win_amd64.whl (688kB)\n",
      "Collecting python-dateutil>=2.1 (from jupyter-client->ipykernel)\n",
      "  Using cached https://files.pythonhosted.org/packages/41/17/c62faccbfbd163c7f57f3844689e3a78bae1f403648a6afb1d0866d87fbb/python_dateutil-2.8.0-py2.py3-none-any.whl\n",
      "Collecting jupyter-core (from jupyter-client->ipykernel)\n",
      "  Downloading https://files.pythonhosted.org/packages/e6/25/6ffb0f6e57fa6ef5d2f814377133b361b42a6dd39105f4885a4f1666c2c3/jupyter_core-4.5.0-py2.py3-none-any.whl (78kB)\n",
      "Collecting futures (from tornado>=4.0->ipykernel)\n",
      "  Downloading https://files.pythonhosted.org/packages/2d/99/b2c4e9d5a30f6471e410a146232b4118e697fa3ffc06d6a65efde84debd0/futures-3.2.0-py2-none-any.whl\n",
      "Collecting singledispatch (from tornado>=4.0->ipykernel)\n",
      "  Downloading https://files.pythonhosted.org/packages/c5/10/369f50bcd4621b263927b0a1519987a04383d4a98fb10438042ad410cf88/singledispatch-3.4.0.3-py2.py3-none-any.whl\n",
      "Collecting backports_abc>=0.4 (from tornado>=4.0->ipykernel)\n",
      "  Downloading https://files.pythonhosted.org/packages/7d/56/6f3ac1b816d0cd8994e83d0c4e55bc64567532f7dc543378bd87f81cebc7/backports_abc-0.5-py2.py3-none-any.whl\n",
      "Collecting wcwidth (from prompt-toolkit<2.0.0,>=1.0.4->ipython>=4.0.0->ipykernel)\n",
      "  Using cached https://files.pythonhosted.org/packages/7e/9f/526a6947247599b084ee5232e4f9190a38f398d7300d866af3ab571a5bfe/wcwidth-0.1.7-py2.py3-none-any.whl\n",
      "Collecting scandir; python_version < \"3.5\" (from pathlib2; python_version == \"2.7\" or python_version == \"3.3\"->ipython>=4.0.0->ipykernel)\n",
      "  Downloading https://files.pythonhosted.org/packages/f9/d0/6b7b38eaf9964510f5c32aa5aaf9f419864d2e0ebe34274e6cba5689a0c5/scandir-1.10.0-cp27-cp27m-win_amd64.whl\n",
      "Installing collected packages: enum34, decorator, ipython-genutils, traitlets, wcwidth, prompt-toolkit, scandir, pathlib2, pickleshare, win-unicode-console, pygments, backports.shutil-get-terminal-size, colorama, simplegeneric, ipython, pyzmq, python-dateutil, futures, singledispatch, backports-abc, tornado, jupyter-core, jupyter-client, ipykernel\n",
      "  Running setup.py install for win-unicode-console: started\n",
      "    Running setup.py install for win-unicode-console: finished with status 'done'\n",
      "  Running setup.py install for simplegeneric: started\n",
      "    Running setup.py install for simplegeneric: finished with status 'done'\n",
      "  Running setup.py install for tornado: started\n",
      "    Running setup.py install for tornado: finished with status 'done'\n",
      "Successfully installed backports-abc-0.5 backports.shutil-get-terminal-size-1.0.0 colorama-0.4.1 decorator-4.4.0 enum34-1.1.6 futures-3.2.0 ipykernel-4.10.0 ipython-5.8.0 ipython-genutils-0.2.0 jupyter-client-5.2.4 jupyter-core-4.5.0 pathlib2-2.3.3 pickleshare-0.7.5 prompt-toolkit-1.0.16 pygments-2.4.2 python-dateutil-2.8.0 pyzmq-18.0.1 scandir-1.10.0 simplegeneric-0.8.1 singledispatch-3.4.0.3 tornado-5.1.1 traitlets-4.3.2 wcwidth-0.1.7 win-unicode-console-0.5\n"
     ]
    },
    {
     "name": "stderr",
     "output_type": "stream",
     "text": [
      "You are using pip version 18.1, however version 19.1.1 is available.\n",
      "You should consider upgrading via the 'python -m pip install --upgrade pip' command.\n"
     ]
    },
    {
     "name": "stdout",
     "output_type": "stream",
     "text": [
      "Installed kernelspec python2 in C:\\Users\\Hp\\AppData\\Roaming\\jupyter\\kernels\\python2\n"
     ]
    }
   ],
   "source": [
    "!python2 -m pip install ipykernel\n",
    "\n",
    "!python2 -m ipykernel install --user"
   ]
  },
  {
   "cell_type": "code",
   "execution_count": null,
   "metadata": {},
   "outputs": [],
   "source": []
  }
 ],
 "metadata": {
  "kernelspec": {
   "display_name": "Python 3",
   "language": "python",
   "name": "python3"
  },
  "language_info": {
   "codemirror_mode": {
    "name": "ipython",
    "version": 3
   },
   "file_extension": ".py",
   "mimetype": "text/x-python",
   "name": "python",
   "nbconvert_exporter": "python",
   "pygments_lexer": "ipython3",
   "version": "3.6.8"
  }
 },
 "nbformat": 4,
 "nbformat_minor": 2
}
